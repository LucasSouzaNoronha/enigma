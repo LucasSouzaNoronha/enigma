{
 "cells": [
  {
   "cell_type": "code",
   "execution_count": 40,
   "metadata": {
    "executionInfo": {
     "elapsed": 2,
     "status": "ok",
     "timestamp": 1750589844285,
     "user": {
      "displayName": "Lucas Noronha",
      "userId": "08714130073576050676"
     },
     "user_tz": 240
    },
    "id": "p97NTKf7Wx4C"
   },
   "outputs": [],
   "source": [
    "# Lista com os caracteres suportados\n",
    "alfabeto = [\"a\",\"b\",\"c\",\"d\",\"e\",\"f\",\"g\",\"h\",\"i\",\"j\",\"k\",\"l\",\"m\",\n",
    "            \"n\",\"o\",\"p\",\"q\",\"r\",\"s\",\"t\",\"u\",\"v\",\"w\",\"x\",\"y\",\"z\",\n",
    "            \"ç\", \" \"]\n",
    "\n",
    "# Dicionário que simula o refletor\n",
    "refletor = {\n",
    "    0: 14, 14: 0,\n",
    "    1: 27, 27: 1,\n",
    "    2: 20, 20: 2,\n",
    "    3: 16, 16: 3,\n",
    "    4: 12, 12: 4,\n",
    "    5: 22, 22: 5,\n",
    "    6: 9,   9: 6,\n",
    "    7: 24, 24: 7,\n",
    "    8: 13, 13: 8,\n",
    "    10: 19, 19:10,\n",
    "    11: 25, 25:11,\n",
    "    15: 21, 21:15,\n",
    "    17: 23, 23:17,\n",
    "    18: 26, 26:18\n",
    "\n",
    "}\n",
    "\n",
    "roldana1 = []\n",
    "roldana2 = []\n",
    "roldana3 = []\n",
    "mensagemd = []\n",
    "\n",
    "# Cria as roldanas com base nas configurações informadas\n",
    "def primeira_inicial(x):\n",
    "    return [(i + x) % 28 for i in range(28)]\n",
    "\n",
    "# Simula o giro das roldanas\n",
    "def alterar_roldana(roldana):\n",
    "  roldana = [0 if x == 27 else x + 1 for x in roldana]\n",
    "  return roldana"
   ]
  },
  {
   "cell_type": "code",
   "execution_count": 41,
   "metadata": {
    "colab": {
     "base_uri": "https://localhost:8080/"
    },
    "executionInfo": {
     "elapsed": 5070,
     "status": "ok",
     "timestamp": 1750589849356,
     "user": {
      "displayName": "Lucas Noronha",
      "userId": "08714130073576050676"
     },
     "user_tz": 240
    },
    "id": "0X-nIcTwmaBB",
    "outputId": "5d1ea362-c643-4e6e-b353-9b214b00fb64"
   },
   "outputs": [
    {
     "name": "stdout",
     "output_type": "stream",
     "text": [
      "Digite a configuração da primeira roldana:1\n",
      "Digite a configuração da segunda roldana:1\n",
      "Digite a configuração da terceira roldana:1\n",
      "Digite a mensagem a ser codificada ou decodificada:teste\n",
      "Mensagem codificada/decodificada: cjmfs\n"
     ]
    }
   ],
   "source": [
    "# Solicita a configuração das roldanas\n",
    "a = int(input(\"Digite a configuração da primeira roldana:\"))\n",
    "b = int(input(\"Digite a configuração da segunda roldana:\"))\n",
    "c = int(input(\"Digite a configuração da terceira roldana:\"))\n",
    "\n",
    "# Solicita a mensagem que será codificada ou decodificada\n",
    "mensagemi = input(\"Digite a mensagem a ser codificada ou decodificada:\")\n",
    "roldana1 = primeira_inicial(a)\n",
    "roldana2 = primeira_inicial(b)\n",
    "roldana3 = primeira_inicial(c)\n",
    "\n",
    "\n",
    "for letra in mensagemi:\n",
    "  try:\n",
    "\n",
    "    # Tenta encontrar o índice da letra no alfabeto (protege contra caracteres inválidos)\n",
    "    i = alfabeto.index(letra.lower())\n",
    "  except ValueError:\n",
    "    # Se a letra não estiver no alfabeto, pula para a próxima\n",
    "        continue\n",
    "\n",
    "  # Caminho de ida pelos rotores\n",
    "  entrada = i\n",
    "  passo1 = roldana1[entrada]\n",
    "  passo2 = roldana2[passo1]\n",
    "  passo3 = roldana3[passo2]\n",
    "\n",
    "  # Refletor redireciona o sinal\n",
    "  refletido = refletor[passo3]\n",
    "\n",
    "  # Caminho de volta pelos rotores (em ordem inversa)\n",
    "  passo4 = roldana3.index(refletido)\n",
    "  passo5 = roldana2.index(passo4)\n",
    "  passo6 = roldana1.index(passo5)\n",
    "\n",
    "  # Letra cifrada/decifrada é adicionada à mensagem final\n",
    "  mensagemd.append(alfabeto[passo6])\n",
    "\n",
    "  # Avanço das roldanas conforme o número de letras cifradas\n",
    "  a += 1\n",
    "  # Primeiro avanço da roldana1\n",
    "  roldana1 = alterar_roldana(roldana1)\n",
    "  if a == 14:\n",
    "\n",
    "      # Avanço de roldana1 + roldana2 (como se fosse entalhe)\n",
    "      roldana2 = alterar_roldana(roldana2)\n",
    "  elif a == 28:\n",
    "\n",
    "      # Avanço de todas as roldanas (rotação completa)\n",
    "      roldana2 = alterar_roldana(roldana2)\n",
    "      roldana3 = alterar_roldana(roldana3)\n",
    "      a = 1\n",
    "\n",
    "print(\"Mensagem codificada/decodificada:\", \"\".join(mensagemd))"
   ]
  }
 ],
 "metadata": {
  "colab": {
   "authorship_tag": "ABX9TyOOmV3kzKq25SYKPIy1Md9D",
   "provenance": []
  },
  "kernelspec": {
   "display_name": "venv_projetos",
   "language": "python",
   "name": "python3"
  },
  "language_info": {
   "name": "python",
   "version": "3.13.3"
  }
 },
 "nbformat": 4,
 "nbformat_minor": 0
}
